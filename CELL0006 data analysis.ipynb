{
 "cells": [
  {
   "cell_type": "code",
   "execution_count": 13,
   "id": "bfdc3169",
   "metadata": {
    "ExecuteTime": {
     "end_time": "2024-09-20T08:12:55.487976Z",
     "start_time": "2024-09-20T08:12:55.484317Z"
    }
   },
   "outputs": [],
   "source": [
    "import pandas as pd\n",
    "import seaborn as sns\n",
    "from scipy import stats\n",
    "from scipy.stats import ttest_ind\n",
    "import numpy as np\n",
    "import matplotlib.pyplot as plt\n",
    "import numpy.matlib\n",
    "#import statannotations\n",
    "from statannotations.Annotator import Annotator\n",
    "from statsmodels.stats.multitest import multipletests\n",
    "import math\n",
    "import os\n",
    "#pip install --upgrade seaborn==0.11.2\n",
    "#REQUIERD VERSION 0.11.2"
   ]
  },
  {
   "cell_type": "markdown",
   "id": "cbb74a2c",
   "metadata": {},
   "source": [
    "# Functions"
   ]
  },
  {
   "cell_type": "code",
   "execution_count": 2,
   "id": "16f96ef5",
   "metadata": {
    "ExecuteTime": {
     "end_time": "2024-09-20T08:12:55.508513Z",
     "start_time": "2024-09-20T08:12:55.502945Z"
    }
   },
   "outputs": [],
   "source": [
    "def FAindex6(rightMeasurements, leftMeasurements):\n",
    "    # Based on: https://www.annualreviews.org/doi/pdf/10.1146/annurev.es.17.110186.002135\n",
    "    # Page 395, table 1\n",
    "    areaNormalized = rightMeasurements;\n",
    "    \n",
    "    for numMeas in range(len(rightMeasurements)):\n",
    "        a_i = rightMeasurements[numMeas] - leftMeasurements[numMeas];\n",
    "        avg = (rightMeasurements[numMeas] + leftMeasurements[numMeas])/2;\n",
    "        areaNormalized[numMeas] = a_i / avg;\n",
    "        \n",
    "    res = np.var(areaNormalized)\n",
    "    return [res, areaNormalized]\n",
    "    "
   ]
  },
  {
   "cell_type": "markdown",
   "id": "81048b09",
   "metadata": {},
   "source": [
    "# Defining initial conditions"
   ]
  },
  {
   "cell_type": "code",
   "execution_count": 4,
   "id": "19566075-085f-46b9-a42b-538fd4df289e",
   "metadata": {
    "ExecuteTime": {
     "end_time": "2024-09-20T08:12:55.530330Z",
     "start_time": "2024-09-20T08:12:55.522886Z"
    }
   },
   "outputs": [],
   "source": [
    "# Defining initial folders\n",
    "whoIsRunning = 'Jan'\n",
    "\n",
    "if whoIsRunning == 'Jan':\n",
    "    conditionsFolder = ['1g', \"5RPM\", '33RPM']\n",
    "    conditions = ['Still', \"5RPM\", '33RPM']\n",
    "    sexes = {'Females', 'Males', ''}\n",
    "    typesOfAnalysis = {'Output_area.dat', 'Output_vLength.dat', 'Output_Landmarks.dat'}\n",
    "\n",
    "\n",
    "features = {'L1', 'L2', 'L3', 'L4', 'L5', 'L6', 'L7', 'L8', 'L9', \\\n",
    "            'L10', 'L11', 'L12', 'L13', 'L14', 'L15', 'L16', 'L17', 'L18', \\\n",
    "           'A1', 'A2', 'A3', 'A4', 'A5', 'A6', 'A7', 'A8', \\\n",
    "            'A4_A5', 'A1_A2_A3', 'A6_A7', \\\n",
    "           'L9_L10_L11', 'L7_L8', 'L12_L13', \\\n",
    "           'wingWidth'}"
   ]
  },
  {
   "cell_type": "code",
   "execution_count": 6,
   "id": "4a43e804",
   "metadata": {
    "ExecuteTime": {
     "end_time": "2024-09-20T08:12:55.559447Z",
     "start_time": "2024-09-20T08:12:55.554413Z"
    }
   },
   "outputs": [],
   "source": [
    "outputFolder = 'Results2'\n",
    "#if not os.path.exists(outputFolder):\n",
    " #   os.makedirs(outputFolder)"
   ]
  },
  {
   "cell_type": "markdown",
   "id": "8c624036",
   "metadata": {},
   "source": [
    "## Loading data"
   ]
  },
  {
   "cell_type": "code",
   "execution_count": 7,
   "id": "e881e9f0",
   "metadata": {
    "ExecuteTime": {
     "end_time": "2024-09-20T08:12:57.411819Z",
     "start_time": "2024-09-20T08:12:55.569802Z"
    }
   },
   "outputs": [
    {
     "name": "stdout",
     "output_type": "stream",
     "text": [
      "1g/Output_area.dat\n",
      "1g/Output_vLength.dat\n",
      "1g/Output_Landmarks.dat\n",
      "5RPM/Output_area.dat\n",
      "5RPM/Output_vLength.dat\n",
      "5RPM/Output_Landmarks.dat\n",
      "33RPM/Output_area.dat\n",
      "33RPM/Output_vLength.dat\n",
      "33RPM/Output_Landmarks.dat\n"
     ]
    }
   ],
   "source": [
    "data = []\n",
    "for numCondition in range(len(conditionsFolder)):\n",
    "    dataCondition = []\n",
    "    for typeOfAnalysis in typesOfAnalysis:\n",
    "        filepath = conditionsFolder[numCondition]+'/'+typeOfAnalysis\n",
    "        print(filepath)\n",
    "        new_df = pd.read_csv(filepath,sep='\\t')\n",
    "        new_df['condition'] = conditions[numCondition]\n",
    "        dataCondition.append(new_df)\n",
    "\n",
    "    dfCondition = pd.concat(dataCondition, axis=1);\n",
    "    dfCondition = dfCondition.T.drop_duplicates().T;\n",
    "    data.append(dfCondition)\n",
    "\n",
    "df_analysis = pd.concat(data);"
   ]
  },
  {
   "cell_type": "markdown",
   "id": "f41195ee",
   "metadata": {},
   "source": [
    "## Compute measurements"
   ]
  },
  {
   "cell_type": "markdown",
   "id": "76f2028d",
   "metadata": {},
   "source": [
    "### Compute new measurements"
   ]
  },
  {
   "cell_type": "code",
   "execution_count": 8,
   "id": "ba16c89a",
   "metadata": {},
   "outputs": [],
   "source": [
    "# Width of wing\n",
    "distance2Points = (df_analysis['x1'] - df_analysis['x4'])**2 + (df_analysis['y1'] - df_analysis['y4'])**2\n",
    "wingWidth = distance2Points.apply(lambda x: math.sqrt(x))\n",
    "df_analysis['wingWidth'] = wingWidth"
   ]
  },
  {
   "cell_type": "code",
   "execution_count": 11,
   "id": "222b4970-0140-433d-a158-695516aee09d",
   "metadata": {},
   "outputs": [],
   "source": [
    "results = [];\n",
    "individualResults = [];\n",
    "for numCondition in range(len(conditions)):\n",
    "    condition = conditions[numCondition]\n",
    "    \n",
    "    for sex in sexes:\n",
    "        generalCondition = np.array(df_analysis['condition'] == condition);\n",
    "\n",
    "        if np.array(df_analysis['CPFile'].str.contains('_Females_')).any():\n",
    "            if sex == '':\n",
    "                generalCondition = generalCondition & np.array(df_analysis['CPFile'].str.contains(''))\n",
    "            else:\n",
    "                generalCondition = generalCondition & np.array(df_analysis['CPFile'].str.contains('_'+sex+'_'))\n",
    "            \n",
    "        else:\n",
    "            generalCondition = generalCondition & np.array(df_analysis['Sex'].str.contains(sex))\n",
    "\n",
    "        rightWings = df_analysis[np.array(df_analysis['Tags'].str.contains('right')) & generalCondition]\n",
    "        leftWings = df_analysis[np.array(df_analysis['Tags'].str.contains('left')) & generalCondition]\n",
    "        \n",
    "        # Measures normalised by area of the wing\n",
    "        if sex != '':\n",
    "            conditionsRepeated_left = np.matlib.repmat([condition, sex, 'left'], leftWings.shape[0], 1)\n",
    "            conditionsRepeated_right = np.matlib.repmat([condition, sex, 'right'], rightWings.shape[0], 1)\n",
    "        else:\n",
    "            conditionsRepeated_left = np.matlib.repmat([condition, 'All', 'left'], leftWings.shape[0], 1)\n",
    "            conditionsRepeated_right = np.matlib.repmat([condition, 'All', 'right'], rightWings.shape[0], 1)\n",
    "            \n",
    "        for feature in features:\n",
    "            if feature in leftWings.columns:\n",
    "                wingValues_left = np.array(100*leftWings[feature]/leftWings['AWing']);\n",
    "                wingValues_right = np.array(100*rightWings[feature]/rightWings['AWing']);\n",
    "            else:\n",
    "                addFeatures = feature.split('_')\n",
    "                addingFeatures = leftWings[addFeatures]\n",
    "                wingValues_left = np.array(100*addingFeatures.sum(axis=1)/leftWings['AWing']);\n",
    "                addingFeatures = rightWings[addFeatures]\n",
    "                wingValues_right = np.array(100*addingFeatures.sum(axis=1)/rightWings['AWing']);\n",
    "                \n",
    "            conditionsRepeated_left = np.column_stack((conditionsRepeated_left, wingValues_left))\n",
    "            conditionsRepeated_right = np.column_stack((conditionsRepeated_right, wingValues_right))\n",
    "\n",
    "        conditionsRepeated_left = np.column_stack((conditionsRepeated_left, leftWings['AWing']))\n",
    "        conditionsRepeated_right = np.column_stack((conditionsRepeated_right, rightWings['AWing']))\n",
    "            \n",
    "        columnNames = np.append(['condition', 'Sex', 'side'], numpy.array(list(features)))\n",
    "        columnNames = np.append(columnNames, ['AWing'])\n",
    "        \n",
    "        newIndividualResults_left = pd.DataFrame(conditionsRepeated_left, columns=columnNames)\n",
    "        newIndividualResults_right = pd.DataFrame(conditionsRepeated_right, columns=columnNames)\n",
    "        individualResults.append(newIndividualResults_left)\n",
    "        individualResults.append(newIndividualResults_right)\n",
    "        \n",
    "        # Save results into a DF\n",
    "        newResult_df = pd.DataFrame([[condition, sex, sum(generalCondition)/2]], \\\n",
    "                       columns=['condition', 'Sex', 'n'])\n",
    "        results.append(newResult_df)\n",
    "\n",
    "individualResults_df = pd.concat(individualResults)\n",
    "results_df = pd.concat(results)\n",
    "\n",
    "features_array = np.array(list(features))\n",
    "features_array = np.append(features_array, 'AWing')\n",
    "individualResults_df[features_array] = individualResults_df[features_array].apply(pd.to_numeric)"
   ]
  },
  {
   "cell_type": "code",
   "execution_count": null,
   "id": "c60bf4ec",
   "metadata": {},
   "outputs": [],
   "source": [
    "# Sort to show them in the correct order\n",
    "#individualResults_df = individualResults_df.sort_values(by=['Sex'])"
   ]
  },
  {
   "cell_type": "markdown",
   "id": "b70cdcd6",
   "metadata": {},
   "source": [
    "## Wing features from Wings4 normalised by its total wing area"
   ]
  },
  {
   "cell_type": "code",
   "execution_count": 14,
   "id": "7549b3f8-f0f9-45a1-a68b-0b8744a394fc",
   "metadata": {},
   "outputs": [
    {
     "name": "stdout",
     "output_type": "stream",
     "text": [
      "p-value annotation legend:\n",
      "      ns: p <= 1.00e+00\n",
      "       *: 1.00e-02 < p <= 5.00e-02\n",
      "      **: 1.00e-03 < p <= 1.00e-02\n",
      "     ***: 1.00e-04 < p <= 1.00e-03\n",
      "    ****: p <= 1.00e-04\n",
      "\n",
      "Still vs. 5RPM: Custom statistical test, P_val:1.494e-03\n",
      "5RPM vs. 33RPM: Custom statistical test, P_val:3.146e-02\n",
      "Still vs. 33RPM: Custom statistical test, P_val:1.000e+00\n"
     ]
    },
    {
     "ename": "FileNotFoundError",
     "evalue": "[Errno 2] No such file or directory: 'C:\\\\Users\\\\Jan\\\\OneDrive\\\\Documents\\\\UCL\\\\dissertation\\\\Results2\\\\wingFeatures_L12.png'",
     "output_type": "error",
     "traceback": [
      "\u001b[1;31m---------------------------------------------------------------------------\u001b[0m",
      "\u001b[1;31mFileNotFoundError\u001b[0m                         Traceback (most recent call last)",
      "Cell \u001b[1;32mIn[14], line 34\u001b[0m\n\u001b[0;32m     31\u001b[0m annotator\u001b[38;5;241m.\u001b[39mset_pvalues(feature_pvals)\u001b[38;5;241m.\u001b[39mannotate()\n\u001b[0;32m     33\u001b[0m \u001b[38;5;66;03m# Save the annotated boxplot\u001b[39;00m\n\u001b[1;32m---> 34\u001b[0m \u001b[43mfig\u001b[49m\u001b[38;5;241;43m.\u001b[39;49m\u001b[43msavefig\u001b[49m\u001b[43m(\u001b[49m\u001b[43moutputFolder\u001b[49m\u001b[43m \u001b[49m\u001b[38;5;241;43m+\u001b[39;49m\u001b[43m \u001b[49m\u001b[38;5;124;43mf\u001b[39;49m\u001b[38;5;124;43m'\u001b[39;49m\u001b[38;5;124;43m/wingFeatures_\u001b[39;49m\u001b[38;5;132;43;01m{\u001b[39;49;00m\u001b[43mfeature\u001b[49m\u001b[38;5;132;43;01m}\u001b[39;49;00m\u001b[38;5;124;43m.png\u001b[39;49m\u001b[38;5;124;43m'\u001b[39;49m\u001b[43m,\u001b[49m\u001b[43m \u001b[49m\u001b[43mdpi\u001b[49m\u001b[38;5;241;43m=\u001b[39;49m\u001b[38;5;241;43m300\u001b[39;49m\u001b[43m,\u001b[49m\u001b[43m \u001b[49m\u001b[43mbbox_inches\u001b[49m\u001b[38;5;241;43m=\u001b[39;49m\u001b[38;5;124;43m'\u001b[39;49m\u001b[38;5;124;43mtight\u001b[39;49m\u001b[38;5;124;43m'\u001b[39;49m\u001b[43m)\u001b[49m\n\u001b[0;32m     36\u001b[0m \u001b[38;5;66;03m# Swarm plot\u001b[39;00m\n\u001b[0;32m     37\u001b[0m fig, ax \u001b[38;5;241m=\u001b[39m plt\u001b[38;5;241m.\u001b[39msubplots(figsize\u001b[38;5;241m=\u001b[39m(\u001b[38;5;241m8\u001b[39m, \u001b[38;5;241m6\u001b[39m)) \n",
      "File \u001b[1;32m~\\anaconda3\\envs\\WingsAnalysis\\lib\\site-packages\\matplotlib\\figure.py:3328\u001b[0m, in \u001b[0;36mFigure.savefig\u001b[1;34m(self, fname, transparent, **kwargs)\u001b[0m\n\u001b[0;32m   3324\u001b[0m     \u001b[38;5;28;01mfor\u001b[39;00m ax \u001b[38;5;129;01min\u001b[39;00m \u001b[38;5;28mself\u001b[39m\u001b[38;5;241m.\u001b[39maxes:\n\u001b[0;32m   3325\u001b[0m         stack\u001b[38;5;241m.\u001b[39menter_context(\n\u001b[0;32m   3326\u001b[0m             ax\u001b[38;5;241m.\u001b[39mpatch\u001b[38;5;241m.\u001b[39m_cm_set(facecolor\u001b[38;5;241m=\u001b[39m\u001b[38;5;124m'\u001b[39m\u001b[38;5;124mnone\u001b[39m\u001b[38;5;124m'\u001b[39m, edgecolor\u001b[38;5;241m=\u001b[39m\u001b[38;5;124m'\u001b[39m\u001b[38;5;124mnone\u001b[39m\u001b[38;5;124m'\u001b[39m))\n\u001b[1;32m-> 3328\u001b[0m \u001b[38;5;28;43mself\u001b[39;49m\u001b[38;5;241;43m.\u001b[39;49m\u001b[43mcanvas\u001b[49m\u001b[38;5;241;43m.\u001b[39;49m\u001b[43mprint_figure\u001b[49m\u001b[43m(\u001b[49m\u001b[43mfname\u001b[49m\u001b[43m,\u001b[49m\u001b[43m \u001b[49m\u001b[38;5;241;43m*\u001b[39;49m\u001b[38;5;241;43m*\u001b[39;49m\u001b[43mkwargs\u001b[49m\u001b[43m)\u001b[49m\n",
      "File \u001b[1;32m~\\anaconda3\\envs\\WingsAnalysis\\lib\\site-packages\\matplotlib\\backend_bases.py:2362\u001b[0m, in \u001b[0;36mFigureCanvasBase.print_figure\u001b[1;34m(self, filename, dpi, facecolor, edgecolor, orientation, format, bbox_inches, pad_inches, bbox_extra_artists, backend, **kwargs)\u001b[0m\n\u001b[0;32m   2358\u001b[0m \u001b[38;5;28;01mtry\u001b[39;00m:\n\u001b[0;32m   2359\u001b[0m     \u001b[38;5;66;03m# _get_renderer may change the figure dpi (as vector formats\u001b[39;00m\n\u001b[0;32m   2360\u001b[0m     \u001b[38;5;66;03m# force the figure dpi to 72), so we need to set it again here.\u001b[39;00m\n\u001b[0;32m   2361\u001b[0m     \u001b[38;5;28;01mwith\u001b[39;00m cbook\u001b[38;5;241m.\u001b[39m_setattr_cm(\u001b[38;5;28mself\u001b[39m\u001b[38;5;241m.\u001b[39mfigure, dpi\u001b[38;5;241m=\u001b[39mdpi):\n\u001b[1;32m-> 2362\u001b[0m         result \u001b[38;5;241m=\u001b[39m \u001b[43mprint_method\u001b[49m\u001b[43m(\u001b[49m\n\u001b[0;32m   2363\u001b[0m \u001b[43m            \u001b[49m\u001b[43mfilename\u001b[49m\u001b[43m,\u001b[49m\n\u001b[0;32m   2364\u001b[0m \u001b[43m            \u001b[49m\u001b[43mfacecolor\u001b[49m\u001b[38;5;241;43m=\u001b[39;49m\u001b[43mfacecolor\u001b[49m\u001b[43m,\u001b[49m\n\u001b[0;32m   2365\u001b[0m \u001b[43m            \u001b[49m\u001b[43medgecolor\u001b[49m\u001b[38;5;241;43m=\u001b[39;49m\u001b[43medgecolor\u001b[49m\u001b[43m,\u001b[49m\n\u001b[0;32m   2366\u001b[0m \u001b[43m            \u001b[49m\u001b[43morientation\u001b[49m\u001b[38;5;241;43m=\u001b[39;49m\u001b[43morientation\u001b[49m\u001b[43m,\u001b[49m\n\u001b[0;32m   2367\u001b[0m \u001b[43m            \u001b[49m\u001b[43mbbox_inches_restore\u001b[49m\u001b[38;5;241;43m=\u001b[39;49m\u001b[43m_bbox_inches_restore\u001b[49m\u001b[43m,\u001b[49m\n\u001b[0;32m   2368\u001b[0m \u001b[43m            \u001b[49m\u001b[38;5;241;43m*\u001b[39;49m\u001b[38;5;241;43m*\u001b[39;49m\u001b[43mkwargs\u001b[49m\u001b[43m)\u001b[49m\n\u001b[0;32m   2369\u001b[0m \u001b[38;5;28;01mfinally\u001b[39;00m:\n\u001b[0;32m   2370\u001b[0m     \u001b[38;5;28;01mif\u001b[39;00m bbox_inches \u001b[38;5;129;01mand\u001b[39;00m restore_bbox:\n",
      "File \u001b[1;32m~\\anaconda3\\envs\\WingsAnalysis\\lib\\site-packages\\matplotlib\\backend_bases.py:2228\u001b[0m, in \u001b[0;36mFigureCanvasBase._switch_canvas_and_return_print_method.<locals>.<lambda>\u001b[1;34m(*args, **kwargs)\u001b[0m\n\u001b[0;32m   2224\u001b[0m     optional_kws \u001b[38;5;241m=\u001b[39m {  \u001b[38;5;66;03m# Passed by print_figure for other renderers.\u001b[39;00m\n\u001b[0;32m   2225\u001b[0m         \u001b[38;5;124m\"\u001b[39m\u001b[38;5;124mdpi\u001b[39m\u001b[38;5;124m\"\u001b[39m, \u001b[38;5;124m\"\u001b[39m\u001b[38;5;124mfacecolor\u001b[39m\u001b[38;5;124m\"\u001b[39m, \u001b[38;5;124m\"\u001b[39m\u001b[38;5;124medgecolor\u001b[39m\u001b[38;5;124m\"\u001b[39m, \u001b[38;5;124m\"\u001b[39m\u001b[38;5;124morientation\u001b[39m\u001b[38;5;124m\"\u001b[39m,\n\u001b[0;32m   2226\u001b[0m         \u001b[38;5;124m\"\u001b[39m\u001b[38;5;124mbbox_inches_restore\u001b[39m\u001b[38;5;124m\"\u001b[39m}\n\u001b[0;32m   2227\u001b[0m     skip \u001b[38;5;241m=\u001b[39m optional_kws \u001b[38;5;241m-\u001b[39m {\u001b[38;5;241m*\u001b[39minspect\u001b[38;5;241m.\u001b[39msignature(meth)\u001b[38;5;241m.\u001b[39mparameters}\n\u001b[1;32m-> 2228\u001b[0m     print_method \u001b[38;5;241m=\u001b[39m functools\u001b[38;5;241m.\u001b[39mwraps(meth)(\u001b[38;5;28;01mlambda\u001b[39;00m \u001b[38;5;241m*\u001b[39margs, \u001b[38;5;241m*\u001b[39m\u001b[38;5;241m*\u001b[39mkwargs: \u001b[43mmeth\u001b[49m\u001b[43m(\u001b[49m\n\u001b[0;32m   2229\u001b[0m \u001b[43m        \u001b[49m\u001b[38;5;241;43m*\u001b[39;49m\u001b[43margs\u001b[49m\u001b[43m,\u001b[49m\u001b[43m \u001b[49m\u001b[38;5;241;43m*\u001b[39;49m\u001b[38;5;241;43m*\u001b[39;49m\u001b[43m{\u001b[49m\u001b[43mk\u001b[49m\u001b[43m:\u001b[49m\u001b[43m \u001b[49m\u001b[43mv\u001b[49m\u001b[43m \u001b[49m\u001b[38;5;28;43;01mfor\u001b[39;49;00m\u001b[43m \u001b[49m\u001b[43mk\u001b[49m\u001b[43m,\u001b[49m\u001b[43m \u001b[49m\u001b[43mv\u001b[49m\u001b[43m \u001b[49m\u001b[38;5;129;43;01min\u001b[39;49;00m\u001b[43m \u001b[49m\u001b[43mkwargs\u001b[49m\u001b[38;5;241;43m.\u001b[39;49m\u001b[43mitems\u001b[49m\u001b[43m(\u001b[49m\u001b[43m)\u001b[49m\u001b[43m \u001b[49m\u001b[38;5;28;43;01mif\u001b[39;49;00m\u001b[43m \u001b[49m\u001b[43mk\u001b[49m\u001b[43m \u001b[49m\u001b[38;5;129;43;01mnot\u001b[39;49;00m\u001b[43m \u001b[49m\u001b[38;5;129;43;01min\u001b[39;49;00m\u001b[43m \u001b[49m\u001b[43mskip\u001b[49m\u001b[43m}\u001b[49m\u001b[43m)\u001b[49m)\n\u001b[0;32m   2230\u001b[0m \u001b[38;5;28;01melse\u001b[39;00m:  \u001b[38;5;66;03m# Let third-parties do as they see fit.\u001b[39;00m\n\u001b[0;32m   2231\u001b[0m     print_method \u001b[38;5;241m=\u001b[39m meth\n",
      "File \u001b[1;32m~\\anaconda3\\envs\\WingsAnalysis\\lib\\site-packages\\matplotlib\\backends\\backend_agg.py:509\u001b[0m, in \u001b[0;36mFigureCanvasAgg.print_png\u001b[1;34m(self, filename_or_obj, metadata, pil_kwargs)\u001b[0m\n\u001b[0;32m    462\u001b[0m \u001b[38;5;28;01mdef\u001b[39;00m \u001b[38;5;21mprint_png\u001b[39m(\u001b[38;5;28mself\u001b[39m, filename_or_obj, \u001b[38;5;241m*\u001b[39m, metadata\u001b[38;5;241m=\u001b[39m\u001b[38;5;28;01mNone\u001b[39;00m, pil_kwargs\u001b[38;5;241m=\u001b[39m\u001b[38;5;28;01mNone\u001b[39;00m):\n\u001b[0;32m    463\u001b[0m \u001b[38;5;250m    \u001b[39m\u001b[38;5;124;03m\"\"\"\u001b[39;00m\n\u001b[0;32m    464\u001b[0m \u001b[38;5;124;03m    Write the figure to a PNG file.\u001b[39;00m\n\u001b[0;32m    465\u001b[0m \n\u001b[1;32m   (...)\u001b[0m\n\u001b[0;32m    507\u001b[0m \u001b[38;5;124;03m        *metadata*, including the default 'Software' key.\u001b[39;00m\n\u001b[0;32m    508\u001b[0m \u001b[38;5;124;03m    \"\"\"\u001b[39;00m\n\u001b[1;32m--> 509\u001b[0m     \u001b[38;5;28;43mself\u001b[39;49m\u001b[38;5;241;43m.\u001b[39;49m\u001b[43m_print_pil\u001b[49m\u001b[43m(\u001b[49m\u001b[43mfilename_or_obj\u001b[49m\u001b[43m,\u001b[49m\u001b[43m \u001b[49m\u001b[38;5;124;43m\"\u001b[39;49m\u001b[38;5;124;43mpng\u001b[39;49m\u001b[38;5;124;43m\"\u001b[39;49m\u001b[43m,\u001b[49m\u001b[43m \u001b[49m\u001b[43mpil_kwargs\u001b[49m\u001b[43m,\u001b[49m\u001b[43m \u001b[49m\u001b[43mmetadata\u001b[49m\u001b[43m)\u001b[49m\n",
      "File \u001b[1;32m~\\anaconda3\\envs\\WingsAnalysis\\lib\\site-packages\\matplotlib\\backends\\backend_agg.py:458\u001b[0m, in \u001b[0;36mFigureCanvasAgg._print_pil\u001b[1;34m(self, filename_or_obj, fmt, pil_kwargs, metadata)\u001b[0m\n\u001b[0;32m    453\u001b[0m \u001b[38;5;250m\u001b[39m\u001b[38;5;124;03m\"\"\"\u001b[39;00m\n\u001b[0;32m    454\u001b[0m \u001b[38;5;124;03mDraw the canvas, then save it using `.image.imsave` (to which\u001b[39;00m\n\u001b[0;32m    455\u001b[0m \u001b[38;5;124;03m*pil_kwargs* and *metadata* are forwarded).\u001b[39;00m\n\u001b[0;32m    456\u001b[0m \u001b[38;5;124;03m\"\"\"\u001b[39;00m\n\u001b[0;32m    457\u001b[0m FigureCanvasAgg\u001b[38;5;241m.\u001b[39mdraw(\u001b[38;5;28mself\u001b[39m)\n\u001b[1;32m--> 458\u001b[0m \u001b[43mmpl\u001b[49m\u001b[38;5;241;43m.\u001b[39;49m\u001b[43mimage\u001b[49m\u001b[38;5;241;43m.\u001b[39;49m\u001b[43mimsave\u001b[49m\u001b[43m(\u001b[49m\n\u001b[0;32m    459\u001b[0m \u001b[43m    \u001b[49m\u001b[43mfilename_or_obj\u001b[49m\u001b[43m,\u001b[49m\u001b[43m \u001b[49m\u001b[38;5;28;43mself\u001b[39;49m\u001b[38;5;241;43m.\u001b[39;49m\u001b[43mbuffer_rgba\u001b[49m\u001b[43m(\u001b[49m\u001b[43m)\u001b[49m\u001b[43m,\u001b[49m\u001b[43m \u001b[49m\u001b[38;5;28;43mformat\u001b[39;49m\u001b[38;5;241;43m=\u001b[39;49m\u001b[43mfmt\u001b[49m\u001b[43m,\u001b[49m\u001b[43m \u001b[49m\u001b[43morigin\u001b[49m\u001b[38;5;241;43m=\u001b[39;49m\u001b[38;5;124;43m\"\u001b[39;49m\u001b[38;5;124;43mupper\u001b[39;49m\u001b[38;5;124;43m\"\u001b[39;49m\u001b[43m,\u001b[49m\n\u001b[0;32m    460\u001b[0m \u001b[43m    \u001b[49m\u001b[43mdpi\u001b[49m\u001b[38;5;241;43m=\u001b[39;49m\u001b[38;5;28;43mself\u001b[39;49m\u001b[38;5;241;43m.\u001b[39;49m\u001b[43mfigure\u001b[49m\u001b[38;5;241;43m.\u001b[39;49m\u001b[43mdpi\u001b[49m\u001b[43m,\u001b[49m\u001b[43m \u001b[49m\u001b[43mmetadata\u001b[49m\u001b[38;5;241;43m=\u001b[39;49m\u001b[43mmetadata\u001b[49m\u001b[43m,\u001b[49m\u001b[43m \u001b[49m\u001b[43mpil_kwargs\u001b[49m\u001b[38;5;241;43m=\u001b[39;49m\u001b[43mpil_kwargs\u001b[49m\u001b[43m)\u001b[49m\n",
      "File \u001b[1;32m~\\anaconda3\\envs\\WingsAnalysis\\lib\\site-packages\\matplotlib\\image.py:1687\u001b[0m, in \u001b[0;36mimsave\u001b[1;34m(fname, arr, vmin, vmax, cmap, format, origin, dpi, metadata, pil_kwargs)\u001b[0m\n\u001b[0;32m   1685\u001b[0m pil_kwargs\u001b[38;5;241m.\u001b[39msetdefault(\u001b[38;5;124m\"\u001b[39m\u001b[38;5;124mformat\u001b[39m\u001b[38;5;124m\"\u001b[39m, \u001b[38;5;28mformat\u001b[39m)\n\u001b[0;32m   1686\u001b[0m pil_kwargs\u001b[38;5;241m.\u001b[39msetdefault(\u001b[38;5;124m\"\u001b[39m\u001b[38;5;124mdpi\u001b[39m\u001b[38;5;124m\"\u001b[39m, (dpi, dpi))\n\u001b[1;32m-> 1687\u001b[0m \u001b[43mimage\u001b[49m\u001b[38;5;241;43m.\u001b[39;49m\u001b[43msave\u001b[49m\u001b[43m(\u001b[49m\u001b[43mfname\u001b[49m\u001b[43m,\u001b[49m\u001b[43m \u001b[49m\u001b[38;5;241;43m*\u001b[39;49m\u001b[38;5;241;43m*\u001b[39;49m\u001b[43mpil_kwargs\u001b[49m\u001b[43m)\u001b[49m\n",
      "File \u001b[1;32m~\\anaconda3\\envs\\WingsAnalysis\\lib\\site-packages\\PIL\\Image.py:2563\u001b[0m, in \u001b[0;36mImage.save\u001b[1;34m(self, fp, format, **params)\u001b[0m\n\u001b[0;32m   2561\u001b[0m         fp \u001b[38;5;241m=\u001b[39m builtins\u001b[38;5;241m.\u001b[39mopen(filename, \u001b[38;5;124m\"\u001b[39m\u001b[38;5;124mr+b\u001b[39m\u001b[38;5;124m\"\u001b[39m)\n\u001b[0;32m   2562\u001b[0m     \u001b[38;5;28;01melse\u001b[39;00m:\n\u001b[1;32m-> 2563\u001b[0m         fp \u001b[38;5;241m=\u001b[39m \u001b[43mbuiltins\u001b[49m\u001b[38;5;241;43m.\u001b[39;49m\u001b[43mopen\u001b[49m\u001b[43m(\u001b[49m\u001b[43mfilename\u001b[49m\u001b[43m,\u001b[49m\u001b[43m \u001b[49m\u001b[38;5;124;43m\"\u001b[39;49m\u001b[38;5;124;43mw+b\u001b[39;49m\u001b[38;5;124;43m\"\u001b[39;49m\u001b[43m)\u001b[49m\n\u001b[0;32m   2564\u001b[0m \u001b[38;5;28;01melse\u001b[39;00m:\n\u001b[0;32m   2565\u001b[0m     fp \u001b[38;5;241m=\u001b[39m cast(IO[\u001b[38;5;28mbytes\u001b[39m], fp)\n",
      "\u001b[1;31mFileNotFoundError\u001b[0m: [Errno 2] No such file or directory: 'C:\\\\Users\\\\Jan\\\\OneDrive\\\\Documents\\\\UCL\\\\dissertation\\\\Results2\\\\wingFeatures_L12.png'"
     ]
    },
    {
     "data": {
      "image/png": "[encoded data removed]",
      "text/plain": [
       "<Figure size 800x600 with 1 Axes>"
      ]
     },
     "metadata": {},
     "output_type": "display_data"
    }
   ],
   "source": [
    "pairs = [(conditions[0], conditions[1]), (conditions[0], conditions[2]), (conditions[1], conditions[2])]\n",
    "\n",
    "# Store all p-values for multiple testing correction\n",
    "all_p_values = []\n",
    "\n",
    "# First, calculate p-values for all features\n",
    "for feature in features_array:\n",
    "    for cond1, cond2 in pairs:\n",
    "        group1 = individualResults_df[individualResults_df[\"condition\"] == cond1][feature]\n",
    "        group2 = individualResults_df[individualResults_df[\"condition\"] == cond2][feature]\n",
    "        _, p = ttest_ind(group1, group2)\n",
    "        all_p_values.append(p)\n",
    "\n",
    "# Apply Bonferroni correction\n",
    "corrected_pvals = multipletests(all_p_values, method='bonferroni')[1]\n",
    "\n",
    "# Loop through each feature and generate plots\n",
    "for numAxs, feature in enumerate(features_array):\n",
    "    fig, ax = plt.subplots(figsize=(8, 6))\n",
    "    \n",
    "    # Boxplot\n",
    "    sns.boxplot(data=individualResults_df, x=\"condition\", y=feature, order=conditions, ax=ax)\n",
    "\n",
    "    # Initialize annotator for p-values\n",
    "    annotator = Annotator(ax, pairs, data=individualResults_df, x=\"condition\", y=feature, order=conditions)\n",
    "    \n",
    "    # Extract the corrected p-values for this feature\n",
    "    feature_pvals = corrected_pvals[numAxs * len(pairs):(numAxs + 1) * len(pairs)]\n",
    "    \n",
    "    # Set and display annotations\n",
    "    annotator.set_pvalues(feature_pvals).annotate()\n",
    "\n",
    "    # Save the annotated boxplot\n",
    "    fig.savefig(outputFolder + f'/wingFeatures_{feature}.png', dpi=300, bbox_inches='tight')\n",
    "\n",
    "    # Swarm plot\n",
    "    fig, ax = plt.subplots(figsize=(8, 6)) \n",
    "    sns.stripplot(data=individualResults_df, x=\"condition\", y=feature, order=conditions, dodge=True, ax=ax)\n",
    "\n",
    "    # Save the swarm plot\n",
    "    #fig.savefig(outputFolder + f'/wingFeatures_swarm_{feature}.png', dpi=300, bbox_inches='tight')\n",
    "\n",
    "plt.show()"
   ]
  },
  {
   "cell_type": "code",
   "execution_count": null,
   "id": "dd9a6928-67b0-4083-8956-db1fbe74e7f8",
   "metadata": {},
   "outputs": [],
   "source": []
  }
 ],
 "metadata": {
  "kernelspec": {
   "display_name": "Python (WingsAnalysis)",
   "language": "python",
   "name": "wingsanalysis"
  },
  "language_info": {
   "codemirror_mode": {
    "name": "ipython",
    "version": 3
   },
   "file_extension": ".py",
   "mimetype": "text/x-python",
   "name": "python",
   "nbconvert_exporter": "python",
   "pygments_lexer": "ipython3",
   "version": "3.8.20"
  }
 },
 "nbformat": 4,
 "nbformat_minor": 5
}
